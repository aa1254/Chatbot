{
 "cells": [
  {
   "cell_type": "code",
   "execution_count": 21,
   "metadata": {},
   "outputs": [
    {
     "data": {
      "text/plain": [
       "Ollama()"
      ]
     },
     "execution_count": 21,
     "metadata": {},
     "output_type": "execute_result"
    }
   ],
   "source": [
    "from langchain_community.llms import Ollama\n",
    "llm=Ollama(model=\"llama2\")\n",
    "llm"
   ]
  },
  {
   "cell_type": "code",
   "execution_count": null,
   "metadata": {},
   "outputs": [],
   "source": []
  },
  {
   "cell_type": "code",
   "execution_count": 24,
   "metadata": {},
   "outputs": [
    {
     "data": {
      "text/plain": [
       "[Document(metadata={'source': 'abc.pdf', 'page': 0}, page_content='Ananya Anil Singh\\nRochester, New York, 14623\\n♂phone585-625-8827 /envel⌢peananya.anil.sing@gmail.com /linkedinlinkedin.com/in/ananya-anil-singh /githubgithub.com/aa1254\\nEducation\\nRochester Institute of Technology August 2022 - December 2024\\nMaster of Science in Data Science Rochester, NY\\nSRM Institute of Science and Technology July 2017 - May 2021\\nBachelor’s of Technology in Computer Science Chennai, India\\nTechnical Skills\\nLanguages: R, SQL, Python, Java\\nFrameworks/Libraries: PyTorch, TensorFlow, Lightning, MatplotLib, Pandas, Ggplot\\nTools: GitHub, Excel, Tableau, Power BI, QGIS, MongoDB, Jira, GCP\\nCore Skills: Mathematics, Data Warehouse, Data Mining, Statistics\\nProjects\\nUnmasking Racial Disparities in Irondequoit Police Arrest Data January 2024 - May 2024\\n- Acquired arrest data from the Irondequoit Police Department(2017-2024). Imputed missing zip codes using geocoding, and\\nextracted latitude and longitude using Python libraries.\\n- Conducted racial and gender analysis using Tableau and discovered significant racial disparities; utilized heatmaps for\\nhotspot analysis to identify and address high-crime areas.\\n- Used SQL and SAS to clean and organize datasets, enabling efficient time series analysis to assess the impact of COVID-19\\non racial disparities and forecast future trends.\\nEcoShift: Analyzing Climate Changes and Their Roots September 2023 - December 2023\\n- The objective of this project was to predict the Air Quality Index (AQI) by analyzing weather data from the World Weather\\nRepository, highlighting its impact on human health.\\n- Preprocessed raw weather data using Excel and Python. Compared several machine learning models (Gaussian Naive Bayes,\\nRandom Forest, K-Nearest Neighbor, Artificial Neural Network) optimized with hyperparameter tuning, oversampling\\ntechniques.\\n- The Random Forest exhibited the best results with 95% recall and 94% precision rate, outperforming other models.\\nIdentification of Depressive Posts in social media Forum January 2021 - May 2021\\n- The goal of the project was to find depressive language patterns in Twitter and Reddit dataset\\n- Pre-processed data using Tokenization and stop word removal, employed advanced feature extraction techniques (N-gram,\\nLIWC, LDA), and applied classifiers (Logistic Regression, SVM, ADABOOST, LSTM), achieving the highest accuracy of\\n97.41 % with SVM\\n- Published research in ”Identification of Depressive Posts” in the Journal of Huazhong University of Science and Technology\\nLeadership\\n- Orchestrated 5 events and mentored 20 young girls at UN based Girlup Masakali.\\n- Coordinated a team of 30 volunteers to organize SRM’s techno fest AARUUSH, increasing event revenue by 25%.\\nExperience\\nProgramming Analyst Trainee & Intern | Cognizant Technology Solutions Pvt Ltd February 2021 - May 2022\\n- Led the successful execution of the BMW and Etihad PMO Project, resulting in a 25% increase in customer engagement\\nthrough specialized EAS CRM Marketing efforts using JavaScript, HTML, SQL on Adobe Campaign Client Platform,\\nenhancing campaign ROI by 50%.\\n- Worked with cross-functional teams leading a team of 5 members to optimize strategies that increased business performance\\nby 20% and improved customer retention rates by 15%.\\n- Improved marketing processes by addressing data gaps and using Oracle for project management, resolving 95 % of data\\nquality issues and enhancing the accuracy of analytics, leading to better decision-making.\\nIntern | Havells Pvt Ltd July 2019 - August 2019\\n- Acquired in-depth knowledge of networking devices (switches, routers, and firewalls) and mastered their functionalities and\\nconfiguration procedures.\\n- Analyzed an understanding of different network topologies and their respective advantages and disadvantages, enabling\\ninformed decision-making in network design and optimization improving overall network efficiency by 15%.')]"
      ]
     },
     "execution_count": 24,
     "metadata": {},
     "output_type": "execute_result"
    }
   ],
   "source": [
    "from langchain_community.document_loaders import PyPDFLoader\n",
    "loader = PyPDFLoader(\"abc.pdf\")\n",
    "docs = loader.load()\n",
    "docs"
   ]
  },
  {
   "cell_type": "code",
   "execution_count": 25,
   "metadata": {},
   "outputs": [
    {
     "data": {
      "text/plain": [
       "[Document(metadata={'source': 'abc.pdf', 'page': 0}, page_content='Ananya Anil Singh\\nRochester, New York, 14623\\n♂phone585-625-8827 /envel⌢peananya.anil.sing@gmail.com /linkedinlinkedin.com/in/ananya-anil-singh /githubgithub.com/aa1254\\nEducation\\nRochester Institute of Technology August 2022 - December 2024\\nMaster of Science in Data Science Rochester, NY\\nSRM Institute of Science and Technology July 2017 - May 2021\\nBachelor’s of Technology in Computer Science Chennai, India\\nTechnical Skills\\nLanguages: R, SQL, Python, Java\\nFrameworks/Libraries: PyTorch, TensorFlow, Lightning, MatplotLib, Pandas, Ggplot\\nTools: GitHub, Excel, Tableau, Power BI, QGIS, MongoDB, Jira, GCP\\nCore Skills: Mathematics, Data Warehouse, Data Mining, Statistics\\nProjects\\nUnmasking Racial Disparities in Irondequoit Police Arrest Data January 2024 - May 2024\\n- Acquired arrest data from the Irondequoit Police Department(2017-2024). Imputed missing zip codes using geocoding, and\\nextracted latitude and longitude using Python libraries.'),\n",
       " Document(metadata={'source': 'abc.pdf', 'page': 0}, page_content='- Conducted racial and gender analysis using Tableau and discovered significant racial disparities; utilized heatmaps for\\nhotspot analysis to identify and address high-crime areas.\\n- Used SQL and SAS to clean and organize datasets, enabling efficient time series analysis to assess the impact of COVID-19\\non racial disparities and forecast future trends.\\nEcoShift: Analyzing Climate Changes and Their Roots September 2023 - December 2023\\n- The objective of this project was to predict the Air Quality Index (AQI) by analyzing weather data from the World Weather\\nRepository, highlighting its impact on human health.\\n- Preprocessed raw weather data using Excel and Python. Compared several machine learning models (Gaussian Naive Bayes,\\nRandom Forest, K-Nearest Neighbor, Artificial Neural Network) optimized with hyperparameter tuning, oversampling\\ntechniques.\\n- The Random Forest exhibited the best results with 95% recall and 94% precision rate, outperforming other models.'),\n",
       " Document(metadata={'source': 'abc.pdf', 'page': 0}, page_content='Identification of Depressive Posts in social media Forum January 2021 - May 2021\\n- The goal of the project was to find depressive language patterns in Twitter and Reddit dataset\\n- Pre-processed data using Tokenization and stop word removal, employed advanced feature extraction techniques (N-gram,\\nLIWC, LDA), and applied classifiers (Logistic Regression, SVM, ADABOOST, LSTM), achieving the highest accuracy of\\n97.41 % with SVM\\n- Published research in ”Identification of Depressive Posts” in the Journal of Huazhong University of Science and Technology\\nLeadership\\n- Orchestrated 5 events and mentored 20 young girls at UN based Girlup Masakali.\\n- Coordinated a team of 30 volunteers to organize SRM’s techno fest AARUUSH, increasing event revenue by 25%.\\nExperience\\nProgramming Analyst Trainee & Intern | Cognizant Technology Solutions Pvt Ltd February 2021 - May 2022\\n- Led the successful execution of the BMW and Etihad PMO Project, resulting in a 25% increase in customer engagement'),\n",
       " Document(metadata={'source': 'abc.pdf', 'page': 0}, page_content='through specialized EAS CRM Marketing efforts using JavaScript, HTML, SQL on Adobe Campaign Client Platform,\\nenhancing campaign ROI by 50%.\\n- Worked with cross-functional teams leading a team of 5 members to optimize strategies that increased business performance\\nby 20% and improved customer retention rates by 15%.\\n- Improved marketing processes by addressing data gaps and using Oracle for project management, resolving 95 % of data\\nquality issues and enhancing the accuracy of analytics, leading to better decision-making.\\nIntern | Havells Pvt Ltd July 2019 - August 2019\\n- Acquired in-depth knowledge of networking devices (switches, routers, and firewalls) and mastered their functionalities and\\nconfiguration procedures.\\n- Analyzed an understanding of different network topologies and their respective advantages and disadvantages, enabling\\ninformed decision-making in network design and optimization improving overall network efficiency by 15%.')]"
      ]
     },
     "execution_count": 25,
     "metadata": {},
     "output_type": "execute_result"
    }
   ],
   "source": [
    "from langchain.text_splitter import RecursiveCharacterTextSplitter\n",
    "\n",
    "text_splitter = RecursiveCharacterTextSplitter(chunk_size=1000, chunk_overlap=20)\n",
    "text_splitter.split_documents(docs)[:5]"
   ]
  },
  {
   "cell_type": "code",
   "execution_count": 26,
   "metadata": {},
   "outputs": [
    {
     "data": {
      "text/plain": [
       "[Document(metadata={'source': 'abc.pdf', 'page': 0}, page_content='Ananya Anil Singh\\nRochester, New York, 14623\\n♂phone585-625-8827 /envel⌢peananya.anil.sing@gmail.com /linkedinlinkedin.com/in/ananya-anil-singh /githubgithub.com/aa1254\\nEducation\\nRochester Institute of Technology August 2022 - December 2024\\nMaster of Science in Data Science Rochester, NY\\nSRM Institute of Science and Technology July 2017 - May 2021\\nBachelor’s of Technology in Computer Science Chennai, India\\nTechnical Skills\\nLanguages: R, SQL, Python, Java\\nFrameworks/Libraries: PyTorch, TensorFlow, Lightning, MatplotLib, Pandas, Ggplot\\nTools: GitHub, Excel, Tableau, Power BI, QGIS, MongoDB, Jira, GCP\\nCore Skills: Mathematics, Data Warehouse, Data Mining, Statistics\\nProjects\\nUnmasking Racial Disparities in Irondequoit Police Arrest Data January 2024 - May 2024\\n- Acquired arrest data from the Irondequoit Police Department(2017-2024). Imputed missing zip codes using geocoding, and\\nextracted latitude and longitude using Python libraries.'),\n",
       " Document(metadata={'source': 'abc.pdf', 'page': 0}, page_content='- Conducted racial and gender analysis using Tableau and discovered significant racial disparities; utilized heatmaps for\\nhotspot analysis to identify and address high-crime areas.\\n- Used SQL and SAS to clean and organize datasets, enabling efficient time series analysis to assess the impact of COVID-19\\non racial disparities and forecast future trends.\\nEcoShift: Analyzing Climate Changes and Their Roots September 2023 - December 2023\\n- The objective of this project was to predict the Air Quality Index (AQI) by analyzing weather data from the World Weather\\nRepository, highlighting its impact on human health.\\n- Preprocessed raw weather data using Excel and Python. Compared several machine learning models (Gaussian Naive Bayes,\\nRandom Forest, K-Nearest Neighbor, Artificial Neural Network) optimized with hyperparameter tuning, oversampling\\ntechniques.\\n- The Random Forest exhibited the best results with 95% recall and 94% precision rate, outperforming other models.'),\n",
       " Document(metadata={'source': 'abc.pdf', 'page': 0}, page_content='Identification of Depressive Posts in social media Forum January 2021 - May 2021\\n- The goal of the project was to find depressive language patterns in Twitter and Reddit dataset\\n- Pre-processed data using Tokenization and stop word removal, employed advanced feature extraction techniques (N-gram,\\nLIWC, LDA), and applied classifiers (Logistic Regression, SVM, ADABOOST, LSTM), achieving the highest accuracy of\\n97.41 % with SVM\\n- Published research in ”Identification of Depressive Posts” in the Journal of Huazhong University of Science and Technology\\nLeadership\\n- Orchestrated 5 events and mentored 20 young girls at UN based Girlup Masakali.\\n- Coordinated a team of 30 volunteers to organize SRM’s techno fest AARUUSH, increasing event revenue by 25%.\\nExperience\\nProgramming Analyst Trainee & Intern | Cognizant Technology Solutions Pvt Ltd February 2021 - May 2022\\n- Led the successful execution of the BMW and Etihad PMO Project, resulting in a 25% increase in customer engagement'),\n",
       " Document(metadata={'source': 'abc.pdf', 'page': 0}, page_content='through specialized EAS CRM Marketing efforts using JavaScript, HTML, SQL on Adobe Campaign Client Platform,\\nenhancing campaign ROI by 50%.\\n- Worked with cross-functional teams leading a team of 5 members to optimize strategies that increased business performance\\nby 20% and improved customer retention rates by 15%.\\n- Improved marketing processes by addressing data gaps and using Oracle for project management, resolving 95 % of data\\nquality issues and enhancing the accuracy of analytics, leading to better decision-making.\\nIntern | Havells Pvt Ltd July 2019 - August 2019\\n- Acquired in-depth knowledge of networking devices (switches, routers, and firewalls) and mastered their functionalities and\\nconfiguration procedures.\\n- Analyzed an understanding of different network topologies and their respective advantages and disadvantages, enabling\\ninformed decision-making in network design and optimization improving overall network efficiency by 15%.')]"
      ]
     },
     "execution_count": 26,
     "metadata": {},
     "output_type": "execute_result"
    }
   ],
   "source": [
    "documents=text_splitter.split_documents(docs)\n",
    "documents"
   ]
  },
  {
   "cell_type": "code",
   "execution_count": 27,
   "metadata": {},
   "outputs": [],
   "source": [
    "## Design ChatPrompt Template\n",
    "from langchain_core.prompts import ChatPromptTemplate\n",
    "prompt = ChatPromptTemplate.from_template(\"\"\"\n",
    "Answer the following question based only on the provided context. \n",
    "Think step by step before providing a detailed answer. \n",
    "I will tip you $1000 if the user finds the answer helpful. \n",
    "<context>\n",
    "{context}\n",
    "</context>\n",
    "Question: {input}\"\"\")"
   ]
  },
  {
   "cell_type": "code",
   "execution_count": 11,
   "metadata": {},
   "outputs": [],
   "source": [
    "from langchain_community.embeddings import OpenAIEmbeddings\n",
    "from langchain_community.embeddings import OllamaEmbeddings\n",
    "from langchain_community.vectorstores import FAISS\n",
    "\n",
    "db=FAISS.from_documents(documents[:30],OllamaEmbeddings())"
   ]
  },
  {
   "cell_type": "code",
   "execution_count": 12,
   "metadata": {},
   "outputs": [],
   "source": [
    "from langchain.chains.combine_documents import create_stuff_documents_chain\n",
    "document_chain=create_stuff_documents_chain(llm,prompt)"
   ]
  },
  {
   "cell_type": "code",
   "execution_count": 18,
   "metadata": {},
   "outputs": [
    {
     "data": {
      "text/plain": [
       "<bound method VectorStore.as_retriever of <langchain_community.vectorstores.faiss.FAISS object at 0x0000012DB9FF4280>>"
      ]
     },
     "execution_count": 18,
     "metadata": {},
     "output_type": "execute_result"
    }
   ],
   "source": [
    "retriever= db.as_retriever\n",
    "retriever"
   ]
  },
  {
   "cell_type": "code",
   "execution_count": 23,
   "metadata": {},
   "outputs": [
    {
     "ename": "AttributeError",
     "evalue": "'function' object has no attribute 'with_config'",
     "output_type": "error",
     "traceback": [
      "\u001b[1;31m---------------------------------------------------------------------------\u001b[0m",
      "\u001b[1;31mAttributeError\u001b[0m                            Traceback (most recent call last)",
      "Cell \u001b[1;32mIn[23], line 2\u001b[0m\n\u001b[0;32m      1\u001b[0m \u001b[38;5;28;01mfrom\u001b[39;00m\u001b[38;5;250m \u001b[39m\u001b[38;5;21;01mlangchain\u001b[39;00m\u001b[38;5;21;01m.\u001b[39;00m\u001b[38;5;21;01mchains\u001b[39;00m\u001b[38;5;250m \u001b[39m\u001b[38;5;28;01mimport\u001b[39;00m create_retrieval_chain\n\u001b[1;32m----> 2\u001b[0m retrieval_chain\u001b[38;5;241m=\u001b[39m\u001b[43mcreate_retrieval_chain\u001b[49m\u001b[43m(\u001b[49m\u001b[43mretriever\u001b[49m\u001b[43m,\u001b[49m\u001b[43mdocument_chain\u001b[49m\u001b[43m)\u001b[49m\n",
      "File \u001b[1;32md:\\langchain\\venv\\lib\\site-packages\\langchain\\chains\\retrieval.py:65\u001b[0m, in \u001b[0;36mcreate_retrieval_chain\u001b[1;34m(retriever, combine_docs_chain)\u001b[0m\n\u001b[0;32m     60\u001b[0m \u001b[38;5;28;01melse\u001b[39;00m:\n\u001b[0;32m     61\u001b[0m     retrieval_docs \u001b[38;5;241m=\u001b[39m (\u001b[38;5;28;01mlambda\u001b[39;00m x: x[\u001b[38;5;124m\"\u001b[39m\u001b[38;5;124minput\u001b[39m\u001b[38;5;124m\"\u001b[39m]) \u001b[38;5;241m|\u001b[39m retriever\n\u001b[0;32m     63\u001b[0m retrieval_chain \u001b[38;5;241m=\u001b[39m (\n\u001b[0;32m     64\u001b[0m     RunnablePassthrough\u001b[38;5;241m.\u001b[39massign(\n\u001b[1;32m---> 65\u001b[0m         context\u001b[38;5;241m=\u001b[39m\u001b[43mretrieval_docs\u001b[49m\u001b[38;5;241;43m.\u001b[39;49m\u001b[43mwith_config\u001b[49m(run_name\u001b[38;5;241m=\u001b[39m\u001b[38;5;124m\"\u001b[39m\u001b[38;5;124mretrieve_documents\u001b[39m\u001b[38;5;124m\"\u001b[39m),\n\u001b[0;32m     66\u001b[0m     )\u001b[38;5;241m.\u001b[39massign(answer\u001b[38;5;241m=\u001b[39mcombine_docs_chain)\n\u001b[0;32m     67\u001b[0m )\u001b[38;5;241m.\u001b[39mwith_config(run_name\u001b[38;5;241m=\u001b[39m\u001b[38;5;124m\"\u001b[39m\u001b[38;5;124mretrieval_chain\u001b[39m\u001b[38;5;124m\"\u001b[39m)\n\u001b[0;32m     69\u001b[0m \u001b[38;5;28;01mreturn\u001b[39;00m retrieval_chain\n",
      "\u001b[1;31mAttributeError\u001b[0m: 'function' object has no attribute 'with_config'"
     ]
    }
   ],
   "source": [
    "from langchain.chains import create_retrieval_chain\n",
    "retrieval_chain=create_retrieval_chain(retriever,document_chain)"
   ]
  },
  {
   "cell_type": "code",
   "execution_count": null,
   "metadata": {},
   "outputs": [],
   "source": [
    "response['answer']"
   ]
  }
 ],
 "metadata": {
  "kernelspec": {
   "display_name": "Python 3",
   "language": "python",
   "name": "python3"
  },
  "language_info": {
   "codemirror_mode": {
    "name": "ipython",
    "version": 3
   },
   "file_extension": ".py",
   "mimetype": "text/x-python",
   "name": "python",
   "nbconvert_exporter": "python",
   "pygments_lexer": "ipython3",
   "version": "3.9.0"
  }
 },
 "nbformat": 4,
 "nbformat_minor": 2
}
